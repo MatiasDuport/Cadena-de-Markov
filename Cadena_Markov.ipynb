{
  "nbformat": 4,
  "nbformat_minor": 0,
  "metadata": {
    "colab": {
      "provenance": [],
      "authorship_tag": "ABX9TyOEK1XSB1j5UHibBkmQKobt",
      "include_colab_link": true
    },
    "kernelspec": {
      "name": "python3",
      "display_name": "Python 3"
    },
    "language_info": {
      "name": "python"
    }
  },
  "cells": [
    {
      "cell_type": "markdown",
      "metadata": {
        "id": "view-in-github",
        "colab_type": "text"
      },
      "source": [
        "<a href=\"https://colab.research.google.com/github/MatiasDuport/Cadena-de-Markov/blob/main/Cadena_Markov.ipynb\" target=\"_parent\"><img src=\"https://colab.research.google.com/assets/colab-badge.svg\" alt=\"Open In Colab\"/></a>"
      ]
    },
    {
      "cell_type": "code",
      "execution_count": 28,
      "metadata": {
        "id": "ePxZBL3OPdwi"
      },
      "outputs": [],
      "source": [
        "import random"
      ]
    },
    {
      "cell_type": "code",
      "source": [
        "corpus = \"el gato come pescado el gato duerme el gato come el pez\"\n",
        "words = corpus.split()\n",
        "print(words)"
      ],
      "metadata": {
        "colab": {
          "base_uri": "https://localhost:8080/"
        },
        "id": "ugP_9VNfPrcs",
        "outputId": "84df39f9-76f0-4675-b85b-418713e72097"
      },
      "execution_count": 45,
      "outputs": [
        {
          "output_type": "stream",
          "name": "stdout",
          "text": [
            "['el', 'gato', 'come', 'pescado', 'el', 'gato', 'duerme', 'el', 'gato', 'come', 'el', 'pez']\n"
          ]
        }
      ]
    },
    {
      "cell_type": "code",
      "source": [
        "markov_chain = {}\n",
        "\n",
        "\n",
        "# Construcción de la cadena de Markov con bigramas\n",
        "for i in range(len(words) - 2):\n",
        "    current_bigram = (words[i], words[i + 1])\n",
        "    next_word = words[i + 2]\n",
        "\n",
        "    if current_bigram not in markov_chain:\n",
        "        markov_chain[current_bigram] = []\n",
        "    markov_chain[current_bigram].append(next_word)\n",
        "\n",
        "\n",
        "print(markov_chain)"
      ],
      "metadata": {
        "colab": {
          "base_uri": "https://localhost:8080/"
        },
        "id": "LF6KpKhVQTnV",
        "outputId": "41593ef3-b3bf-4c14-d591-a97fd8f3a93a"
      },
      "execution_count": 44,
      "outputs": [
        {
          "output_type": "stream",
          "name": "stdout",
          "text": [
            "{('el', 'gato'): ['come', 'duerme', 'come'], ('gato', 'come'): ['pescado', 'el'], ('come', 'pescado'): ['el'], ('pescado', 'el'): ['gato'], ('gato', 'duerme'): ['el'], ('duerme', 'el'): ['gato'], ('come', 'el'): ['pez']}\n"
          ]
        }
      ]
    },
    {
      "cell_type": "code",
      "source": [
        "def generate_text(markov_chain, start_bigram, max_length=10):\n",
        "    if start_bigram not in markov_chain:\n",
        "        return \"Bigram inicial no encontrado en el corpus.\"\n",
        "\n",
        "    current_bigram = start_bigram\n",
        "    output = list(current_bigram)\n",
        "\n",
        "    for _ in range(max_length - 2):\n",
        "        next_words = markov_chain.get(current_bigram)\n",
        "        if not next_words:\n",
        "            break\n",
        "        next_word = random.choice(next_words)\n",
        "        output.append(next_word)\n",
        "        current_bigram = (current_bigram[1], next_word)\n",
        "\n",
        "    return \" \".join(output)"
      ],
      "metadata": {
        "id": "yJSpJ-kJ8Kwa"
      },
      "execution_count": 43,
      "outputs": []
    },
    {
      "cell_type": "code",
      "source": [
        "# Prueba del generador de texto\n",
        "start_bigram = (\"el\", \"gato\")\n",
        "generated_text = generate_text(markov_chain, start_bigram)\n",
        "print(generated_text)"
      ],
      "metadata": {
        "colab": {
          "base_uri": "https://localhost:8080/"
        },
        "id": "E4BYyPnfkyO-",
        "outputId": "7cb67622-8709-4c81-bd0a-4527e66e7ff6"
      },
      "execution_count": 46,
      "outputs": [
        {
          "output_type": "stream",
          "name": "stdout",
          "text": [
            "el gato duerme el gato come el pez\n"
          ]
        }
      ]
    }
  ]
}